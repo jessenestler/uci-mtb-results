{
 "cells": [
  {
   "cell_type": "code",
   "execution_count": 1,
   "metadata": {},
   "outputs": [],
   "source": [
    "import json\n",
    "import re\n",
    "from datetime import datetime\n",
    "from pathlib import Path\n",
    "\n",
    "from scraper import MTBEventsPage, MTBRacesPage, MTBResultsPage"
   ]
  },
  {
   "cell_type": "code",
   "execution_count": 2,
   "metadata": {},
   "outputs": [],
   "source": [
    "def custom_serializer(obj):\n",
    "    \"\"\"Custom JSON serializer for datetime objects\"\"\"\n",
    "    if isinstance(obj, datetime):\n",
    "        return obj.date().isoformat()  # Convert datetime to ISO 8601 string\n",
    "    raise TypeError(f\"Type {type(obj)} not serializable\")"
   ]
  },
  {
   "cell_type": "markdown",
   "metadata": {},
   "source": [
    "# Events by Year"
   ]
  },
  {
   "cell_type": "code",
   "execution_count": 3,
   "metadata": {},
   "outputs": [],
   "source": [
    "year = 2023\n",
    "year_folder = Path(f\"./data/{year}\")\n",
    "year_folder.mkdir(parents=True, exist_ok=True)"
   ]
  },
  {
   "cell_type": "markdown",
   "metadata": {},
   "source": [
    "Extract all event information for the given year. We use selenium here because without the interactive element, result urls don't actually show up in the HTML."
   ]
  },
  {
   "cell_type": "code",
   "execution_count": null,
   "metadata": {},
   "outputs": [],
   "source": [
    "event_page = MTBEventsPage(year, use_selenium=True)\n",
    "events = event_page.fetch_events()"
   ]
  },
  {
   "cell_type": "markdown",
   "metadata": {},
   "source": [
    "# Enrich Events"
   ]
  },
  {
   "cell_type": "code",
   "execution_count": 5,
   "metadata": {},
   "outputs": [],
   "source": [
    "enriched_events = [{\n",
    "    **event,\n",
    "    'races': MTBRacesPage(event['results_url']).fetch_races()\n",
    "} for event in events]"
   ]
  },
  {
   "cell_type": "markdown",
   "metadata": {},
   "source": [
    "# Get Race Results"
   ]
  },
  {
   "cell_type": "code",
   "execution_count": null,
   "metadata": {},
   "outputs": [],
   "source": [
    "for event in enriched_events:\n",
    "    for race in event['races']:\n",
    "        name = (f\"{race['discipline']}_{race['gender']}_\"\n",
    "                f\"{race['category']}_{race['race_type']}\").replace(\" \", \"_\")\n",
    "        print(f\"Extracting {event['location']} {name}\")\n",
    "        page = MTBResultsPage(race['url'])\n",
    "        race['event'] = event['location']\n",
    "        race['name'] = name.replace(\"-\", \"_\")\n",
    "        race['date'] = page.fetch_results_date()\n",
    "        race['results'] = page.fetch_results()"
   ]
  },
  {
   "cell_type": "markdown",
   "metadata": {},
   "source": [
    "# Save Outputs"
   ]
  },
  {
   "cell_type": "code",
   "execution_count": 7,
   "metadata": {},
   "outputs": [],
   "source": [
    "for num, event in enumerate(enriched_events):\n",
    "    # Create a folder for each event for the year\n",
    "    location = re.sub(r'\\s?-\\s?|\\s*', '_', event[\"location\"]) \\\n",
    "                 .replace(\",\", \"\") \\\n",
    "                 .lower()\n",
    "    event_folder = year_folder / f\"{num:02d}_{location}\"\n",
    "    event_folder.mkdir(parents=True, exist_ok=True)\n",
    "\n",
    "    # Save the event details to a JSON file\n",
    "    event_file = event_folder / \"event.json\"\n",
    "    with open(event_file, \"w\") as f:\n",
    "        json.dump(event, f, default=custom_serializer,\n",
    "                  ensure_ascii=False, indent=2)\n",
    "\n",
    "    # Modify each race's info\n",
    "    for race in event['races']:\n",
    "        # Create a folder\n",
    "        result_folder = event_folder / \"results\" / race['discipline']\n",
    "        result_folder.mkdir(parents=True, exist_ok=True)\n",
    "\n",
    "        # Save\n",
    "        race_file = result_folder / f\"{race['name']}.json\"\n",
    "        race = {k: v for k, v in race.items() if k != \"name\"}\n",
    "        with open(race_file, \"w\") as f:\n",
    "            json.dump(race, f, default=custom_serializer,\n",
    "                      ensure_ascii=False, indent=2)"
   ]
  },
  {
   "cell_type": "code",
   "execution_count": null,
   "metadata": {},
   "outputs": [],
   "source": []
  }
 ],
 "metadata": {
  "kernelspec": {
   "display_name": ".venv",
   "language": "python",
   "name": "python3"
  },
  "language_info": {
   "codemirror_mode": {
    "name": "ipython",
    "version": 3
   },
   "file_extension": ".py",
   "mimetype": "text/x-python",
   "name": "python",
   "nbconvert_exporter": "python",
   "pygments_lexer": "ipython3",
   "version": "3.10.16"
  }
 },
 "nbformat": 4,
 "nbformat_minor": 2
}
